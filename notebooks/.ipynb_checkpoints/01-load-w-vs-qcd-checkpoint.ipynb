{
 "cells": [
  {
   "cell_type": "code",
   "execution_count": 1,
   "metadata": {
    "collapsed": false
   },
   "outputs": [],
   "source": [
    "%load_ext cython\n",
    "import numpy as np\n",
    "import h5py\n",
    "import pickle"
   ]
  },
  {
   "cell_type": "code",
   "execution_count": 2,
   "metadata": {
    "collapsed": false
   },
   "outputs": [
    {
     "ename": "CompileError",
     "evalue": "command 'gcc' failed with exit status 1",
     "output_type": "error",
     "traceback": [
      "\u001b[0;31m---------------------------------------------------------------------------\u001b[0m",
      "\u001b[0;31mCompileError\u001b[0m                              Traceback (most recent call last)",
      "\u001b[0;32m<ipython-input-2-209235ddc79e>\u001b[0m in \u001b[0;36m<module>\u001b[0;34m()\u001b[0m\n\u001b[0;32m----> 1\u001b[0;31m \u001b[0mget_ipython\u001b[0m\u001b[0;34m(\u001b[0m\u001b[0;34m)\u001b[0m\u001b[0;34m.\u001b[0m\u001b[0mrun_cell_magic\u001b[0m\u001b[0;34m(\u001b[0m\u001b[0;34mu'cython'\u001b[0m\u001b[0;34m,\u001b[0m \u001b[0;34mu'-f -+ -I/usr/local/include --link-args=-Wl,-rpath,/usr/local/lib -lm -L/usr/local/lib -lfastjettools -lfastjet -lfastjetplugins -lsiscone_spherical -lsiscone'\u001b[0m\u001b[0;34m,\u001b[0m \u001b[0;34mu'import numpy as np\\ncimport numpy as np\\nnp.import_array()\\n\\nfrom libcpp.pair cimport pair\\nfrom libcpp.vector cimport vector\\n\\ncdef extern from \"/home/gilles/gdrive/research/sandbox/learning-qcd-rnn/notebooks/fj.cc\":\\n    void fj(vector[double]& a, \\n            vector[vector[int]]& trees, \\n            vector[vector[double]]& contents, \\n            vector[double]& masses, \\n            vector[double]& pts, \\n            double R, int jet_algorithm)\\n    \\ncpdef cluster(np.ndarray[np.double_t, ndim=2, mode=\"c\"] a, \\n              R=1.0, jet_algorithm=0):\\n    cdef vector[double] v\\n    cdef vector[vector[int]] trees\\n    cdef vector[vector[double]] contents\\n    cdef vector[double] masses\\n    cdef vector[double] pts \\n    for value in a.ravel():\\n        v.push_back(value)\\n    \\n    fj(v, trees, contents, masses, pts, R=R, jet_algorithm=jet_algorithm)\\n    jets = []\\n    \\n    for tree, content, mass, pt in zip(trees, contents, masses, pts):\\n        tree = np.array([e for e in tree]).reshape(-1, 2)\\n        content = np.array([e for e in content]).reshape(-1, 4)\\n        jets.append((tree, content, mass, pt))\\n        \\n    return jets'\u001b[0m\u001b[0;34m)\u001b[0m\u001b[0;34m\u001b[0m\u001b[0m\n\u001b[0m",
      "\u001b[0;32m//anaconda/envs/p27/lib/python2.7/site-packages/IPython/core/interactiveshell.pyc\u001b[0m in \u001b[0;36mrun_cell_magic\u001b[0;34m(self, magic_name, line, cell)\u001b[0m\n\u001b[1;32m   2113\u001b[0m             \u001b[0mmagic_arg_s\u001b[0m \u001b[0;34m=\u001b[0m \u001b[0mself\u001b[0m\u001b[0;34m.\u001b[0m\u001b[0mvar_expand\u001b[0m\u001b[0;34m(\u001b[0m\u001b[0mline\u001b[0m\u001b[0;34m,\u001b[0m \u001b[0mstack_depth\u001b[0m\u001b[0;34m)\u001b[0m\u001b[0;34m\u001b[0m\u001b[0m\n\u001b[1;32m   2114\u001b[0m             \u001b[0;32mwith\u001b[0m \u001b[0mself\u001b[0m\u001b[0;34m.\u001b[0m\u001b[0mbuiltin_trap\u001b[0m\u001b[0;34m:\u001b[0m\u001b[0;34m\u001b[0m\u001b[0m\n\u001b[0;32m-> 2115\u001b[0;31m                 \u001b[0mresult\u001b[0m \u001b[0;34m=\u001b[0m \u001b[0mfn\u001b[0m\u001b[0;34m(\u001b[0m\u001b[0mmagic_arg_s\u001b[0m\u001b[0;34m,\u001b[0m \u001b[0mcell\u001b[0m\u001b[0;34m)\u001b[0m\u001b[0;34m\u001b[0m\u001b[0m\n\u001b[0m\u001b[1;32m   2116\u001b[0m             \u001b[0;32mreturn\u001b[0m \u001b[0mresult\u001b[0m\u001b[0;34m\u001b[0m\u001b[0m\n\u001b[1;32m   2117\u001b[0m \u001b[0;34m\u001b[0m\u001b[0m\n",
      "\u001b[0;32m<decorator-gen-124>\u001b[0m in \u001b[0;36mcython\u001b[0;34m(self, line, cell)\u001b[0m\n",
      "\u001b[0;32m//anaconda/envs/p27/lib/python2.7/site-packages/IPython/core/magic.pyc\u001b[0m in \u001b[0;36m<lambda>\u001b[0;34m(f, *a, **k)\u001b[0m\n\u001b[1;32m    186\u001b[0m     \u001b[0;31m# but it's overkill for just that one bit of state.\u001b[0m\u001b[0;34m\u001b[0m\u001b[0;34m\u001b[0m\u001b[0m\n\u001b[1;32m    187\u001b[0m     \u001b[0;32mdef\u001b[0m \u001b[0mmagic_deco\u001b[0m\u001b[0;34m(\u001b[0m\u001b[0marg\u001b[0m\u001b[0;34m)\u001b[0m\u001b[0;34m:\u001b[0m\u001b[0;34m\u001b[0m\u001b[0m\n\u001b[0;32m--> 188\u001b[0;31m         \u001b[0mcall\u001b[0m \u001b[0;34m=\u001b[0m \u001b[0;32mlambda\u001b[0m \u001b[0mf\u001b[0m\u001b[0;34m,\u001b[0m \u001b[0;34m*\u001b[0m\u001b[0ma\u001b[0m\u001b[0;34m,\u001b[0m \u001b[0;34m**\u001b[0m\u001b[0mk\u001b[0m\u001b[0;34m:\u001b[0m \u001b[0mf\u001b[0m\u001b[0;34m(\u001b[0m\u001b[0;34m*\u001b[0m\u001b[0ma\u001b[0m\u001b[0;34m,\u001b[0m \u001b[0;34m**\u001b[0m\u001b[0mk\u001b[0m\u001b[0;34m)\u001b[0m\u001b[0;34m\u001b[0m\u001b[0m\n\u001b[0m\u001b[1;32m    189\u001b[0m \u001b[0;34m\u001b[0m\u001b[0m\n\u001b[1;32m    190\u001b[0m         \u001b[0;32mif\u001b[0m \u001b[0mcallable\u001b[0m\u001b[0;34m(\u001b[0m\u001b[0marg\u001b[0m\u001b[0;34m)\u001b[0m\u001b[0;34m:\u001b[0m\u001b[0;34m\u001b[0m\u001b[0m\n",
      "\u001b[0;32m//anaconda/envs/p27/lib/python2.7/site-packages/Cython/Build/IpythonMagic.pyc\u001b[0m in \u001b[0;36mcython\u001b[0;34m(self, line, cell)\u001b[0m\n\u001b[1;32m    289\u001b[0m             \u001b[0mbuild_extension\u001b[0m\u001b[0;34m.\u001b[0m\u001b[0mbuild_temp\u001b[0m \u001b[0;34m=\u001b[0m \u001b[0mos\u001b[0m\u001b[0;34m.\u001b[0m\u001b[0mpath\u001b[0m\u001b[0;34m.\u001b[0m\u001b[0mdirname\u001b[0m\u001b[0;34m(\u001b[0m\u001b[0mpyx_file\u001b[0m\u001b[0;34m)\u001b[0m\u001b[0;34m\u001b[0m\u001b[0m\n\u001b[1;32m    290\u001b[0m             \u001b[0mbuild_extension\u001b[0m\u001b[0;34m.\u001b[0m\u001b[0mbuild_lib\u001b[0m  \u001b[0;34m=\u001b[0m \u001b[0mlib_dir\u001b[0m\u001b[0;34m\u001b[0m\u001b[0m\n\u001b[0;32m--> 291\u001b[0;31m             \u001b[0mbuild_extension\u001b[0m\u001b[0;34m.\u001b[0m\u001b[0mrun\u001b[0m\u001b[0;34m(\u001b[0m\u001b[0;34m)\u001b[0m\u001b[0;34m\u001b[0m\u001b[0m\n\u001b[0m\u001b[1;32m    292\u001b[0m             \u001b[0mself\u001b[0m\u001b[0;34m.\u001b[0m\u001b[0m_code_cache\u001b[0m\u001b[0;34m[\u001b[0m\u001b[0mkey\u001b[0m\u001b[0;34m]\u001b[0m \u001b[0;34m=\u001b[0m \u001b[0mmodule_name\u001b[0m\u001b[0;34m\u001b[0m\u001b[0m\n\u001b[1;32m    293\u001b[0m \u001b[0;34m\u001b[0m\u001b[0m\n",
      "\u001b[0;32m//anaconda/envs/p27/lib/python2.7/distutils/command/build_ext.pyc\u001b[0m in \u001b[0;36mrun\u001b[0;34m(self)\u001b[0m\n\u001b[1;32m    338\u001b[0m \u001b[0;34m\u001b[0m\u001b[0m\n\u001b[1;32m    339\u001b[0m         \u001b[0;31m# Now actually compile and link everything.\u001b[0m\u001b[0;34m\u001b[0m\u001b[0;34m\u001b[0m\u001b[0m\n\u001b[0;32m--> 340\u001b[0;31m         \u001b[0mself\u001b[0m\u001b[0;34m.\u001b[0m\u001b[0mbuild_extensions\u001b[0m\u001b[0;34m(\u001b[0m\u001b[0;34m)\u001b[0m\u001b[0;34m\u001b[0m\u001b[0m\n\u001b[0m\u001b[1;32m    341\u001b[0m \u001b[0;34m\u001b[0m\u001b[0m\n\u001b[1;32m    342\u001b[0m     \u001b[0;32mdef\u001b[0m \u001b[0mcheck_extensions_list\u001b[0m\u001b[0;34m(\u001b[0m\u001b[0mself\u001b[0m\u001b[0;34m,\u001b[0m \u001b[0mextensions\u001b[0m\u001b[0;34m)\u001b[0m\u001b[0;34m:\u001b[0m\u001b[0;34m\u001b[0m\u001b[0m\n",
      "\u001b[0;32m//anaconda/envs/p27/lib/python2.7/distutils/command/build_ext.pyc\u001b[0m in \u001b[0;36mbuild_extensions\u001b[0;34m(self)\u001b[0m\n\u001b[1;32m    447\u001b[0m \u001b[0;34m\u001b[0m\u001b[0m\n\u001b[1;32m    448\u001b[0m         \u001b[0;32mfor\u001b[0m \u001b[0mext\u001b[0m \u001b[0;32min\u001b[0m \u001b[0mself\u001b[0m\u001b[0;34m.\u001b[0m\u001b[0mextensions\u001b[0m\u001b[0;34m:\u001b[0m\u001b[0;34m\u001b[0m\u001b[0m\n\u001b[0;32m--> 449\u001b[0;31m             \u001b[0mself\u001b[0m\u001b[0;34m.\u001b[0m\u001b[0mbuild_extension\u001b[0m\u001b[0;34m(\u001b[0m\u001b[0mext\u001b[0m\u001b[0;34m)\u001b[0m\u001b[0;34m\u001b[0m\u001b[0m\n\u001b[0m\u001b[1;32m    450\u001b[0m \u001b[0;34m\u001b[0m\u001b[0m\n\u001b[1;32m    451\u001b[0m     \u001b[0;32mdef\u001b[0m \u001b[0mbuild_extension\u001b[0m\u001b[0;34m(\u001b[0m\u001b[0mself\u001b[0m\u001b[0;34m,\u001b[0m \u001b[0mext\u001b[0m\u001b[0;34m)\u001b[0m\u001b[0;34m:\u001b[0m\u001b[0;34m\u001b[0m\u001b[0m\n",
      "\u001b[0;32m//anaconda/envs/p27/lib/python2.7/distutils/command/build_ext.pyc\u001b[0m in \u001b[0;36mbuild_extension\u001b[0;34m(self, ext)\u001b[0m\n\u001b[1;32m    497\u001b[0m                                          \u001b[0mdebug\u001b[0m\u001b[0;34m=\u001b[0m\u001b[0mself\u001b[0m\u001b[0;34m.\u001b[0m\u001b[0mdebug\u001b[0m\u001b[0;34m,\u001b[0m\u001b[0;34m\u001b[0m\u001b[0m\n\u001b[1;32m    498\u001b[0m                                          \u001b[0mextra_postargs\u001b[0m\u001b[0;34m=\u001b[0m\u001b[0mextra_args\u001b[0m\u001b[0;34m,\u001b[0m\u001b[0;34m\u001b[0m\u001b[0m\n\u001b[0;32m--> 499\u001b[0;31m                                          depends=ext.depends)\n\u001b[0m\u001b[1;32m    500\u001b[0m \u001b[0;34m\u001b[0m\u001b[0m\n\u001b[1;32m    501\u001b[0m         \u001b[0;31m# XXX -- this is a Vile HACK!\u001b[0m\u001b[0;34m\u001b[0m\u001b[0;34m\u001b[0m\u001b[0m\n",
      "\u001b[0;32m//anaconda/envs/p27/lib/python2.7/distutils/ccompiler.pyc\u001b[0m in \u001b[0;36mcompile\u001b[0;34m(self, sources, output_dir, macros, include_dirs, debug, extra_preargs, extra_postargs, depends)\u001b[0m\n\u001b[1;32m    572\u001b[0m             \u001b[0;32mexcept\u001b[0m \u001b[0mKeyError\u001b[0m\u001b[0;34m:\u001b[0m\u001b[0;34m\u001b[0m\u001b[0m\n\u001b[1;32m    573\u001b[0m                 \u001b[0;32mcontinue\u001b[0m\u001b[0;34m\u001b[0m\u001b[0m\n\u001b[0;32m--> 574\u001b[0;31m             \u001b[0mself\u001b[0m\u001b[0;34m.\u001b[0m\u001b[0m_compile\u001b[0m\u001b[0;34m(\u001b[0m\u001b[0mobj\u001b[0m\u001b[0;34m,\u001b[0m \u001b[0msrc\u001b[0m\u001b[0;34m,\u001b[0m \u001b[0mext\u001b[0m\u001b[0;34m,\u001b[0m \u001b[0mcc_args\u001b[0m\u001b[0;34m,\u001b[0m \u001b[0mextra_postargs\u001b[0m\u001b[0;34m,\u001b[0m \u001b[0mpp_opts\u001b[0m\u001b[0;34m)\u001b[0m\u001b[0;34m\u001b[0m\u001b[0m\n\u001b[0m\u001b[1;32m    575\u001b[0m \u001b[0;34m\u001b[0m\u001b[0m\n\u001b[1;32m    576\u001b[0m         \u001b[0;31m# Return *all* object filenames, not just the ones we just built.\u001b[0m\u001b[0;34m\u001b[0m\u001b[0;34m\u001b[0m\u001b[0m\n",
      "\u001b[0;32m//anaconda/envs/p27/lib/python2.7/distutils/unixccompiler.pyc\u001b[0m in \u001b[0;36m_compile\u001b[0;34m(self, obj, src, ext, cc_args, extra_postargs, pp_opts)\u001b[0m\n\u001b[1;32m    122\u001b[0m                        extra_postargs)\n\u001b[1;32m    123\u001b[0m         \u001b[0;32mexcept\u001b[0m \u001b[0mDistutilsExecError\u001b[0m\u001b[0;34m,\u001b[0m \u001b[0mmsg\u001b[0m\u001b[0;34m:\u001b[0m\u001b[0;34m\u001b[0m\u001b[0m\n\u001b[0;32m--> 124\u001b[0;31m             \u001b[0;32mraise\u001b[0m \u001b[0mCompileError\u001b[0m\u001b[0;34m,\u001b[0m \u001b[0mmsg\u001b[0m\u001b[0;34m\u001b[0m\u001b[0m\n\u001b[0m\u001b[1;32m    125\u001b[0m \u001b[0;34m\u001b[0m\u001b[0m\n\u001b[1;32m    126\u001b[0m     def create_static_lib(self, objects, output_libname,\n",
      "\u001b[0;31mCompileError\u001b[0m: command 'gcc' failed with exit status 1"
     ]
    }
   ],
   "source": [
    "%%cython -f -+ -I/usr/local/include --link-args=-Wl,-rpath,/usr/local/lib -lm -L/usr/local/lib -lfastjettools -lfastjet -lfastjetplugins -lsiscone_spherical -lsiscone\n",
    "import numpy as np\n",
    "cimport numpy as np\n",
    "np.import_array()\n",
    "\n",
    "from libcpp.pair cimport pair\n",
    "from libcpp.vector cimport vector\n",
    "\n",
    "cdef extern from \"/home/gilles/gdrive/research/sandbox/learning-qcd-rnn/notebooks/fj.cc\":\n",
    "    void fj(vector[double]& a, \n",
    "            vector[vector[int]]& trees, \n",
    "            vector[vector[double]]& contents, \n",
    "            vector[double]& masses, \n",
    "            vector[double]& pts, \n",
    "            double R, int jet_algorithm)\n",
    "    \n",
    "cpdef cluster(np.ndarray[np.double_t, ndim=2, mode=\"c\"] a, \n",
    "              R=1.0, jet_algorithm=0):\n",
    "    cdef vector[double] v\n",
    "    cdef vector[vector[int]] trees\n",
    "    cdef vector[vector[double]] contents\n",
    "    cdef vector[double] masses\n",
    "    cdef vector[double] pts \n",
    "    for value in a.ravel():\n",
    "        v.push_back(value)\n",
    "    \n",
    "    fj(v, trees, contents, masses, pts, R=R, jet_algorithm=jet_algorithm)\n",
    "    jets = []\n",
    "    \n",
    "    for tree, content, mass, pt in zip(trees, contents, masses, pts):\n",
    "        tree = np.array([e for e in tree]).reshape(-1, 2)\n",
    "        content = np.array([e for e in content]).reshape(-1, 4)\n",
    "        jets.append((tree, content, mass, pt))\n",
    "        \n",
    "    return jets"
   ]
  },
  {
   "cell_type": "code",
   "execution_count": 10,
   "metadata": {
    "collapsed": false
   },
   "outputs": [],
   "source": [
    "from rootpy.vector import LorentzVector\n",
    "\n",
    "f = h5py.File(\"../data/w-vs-qcd/h5/w_100000.h5\", \"r\")\n",
    "# f = h5py.File(\"../data/w-vs-qcd/h5/qcd_100000.h5\", \"r\")\n",
    "# f = h5py.File(\"../data/w-vs-qcd/h5/w_100000_delphes.h5\", \"r\")\n",
    "# f = h5py.File(\"../data/w-vs-qcd/h5/qcd_100000_delphes.h5\", \"r\")\n",
    "events = f[\"events\"]\n",
    "\n",
    "def cast(event, soft=0):\n",
    "    a = np.zeros((len(event)+soft, 4))\n",
    "    \n",
    "    for i, p in enumerate(event):\n",
    "        a[i, 3] = p[0]\n",
    "        a[i, 0] = p[1]\n",
    "        a[i, 1] = p[2]\n",
    "        a[i, 2] = p[3]\n",
    "        \n",
    "    # sprinkle soft particles\n",
    "    for i in range(len(event), len(event)+soft):\n",
    "        v = LorentzVector()\n",
    "        v.set_pt_eta_phi_m(10e-5, np.random.rand() * 10 - 5, np.random.rand() * 2 * np.pi, 0.0)\n",
    "        a[i, 0] = v.px\n",
    "        a[i, 1] = v.py\n",
    "        a[i, 2] = v.pz\n",
    "        a[i, 3] = v.e\n",
    "        \n",
    "    return a\n",
    "\n",
    "fd = open(\"../data/w-vs-qcd/anti-kt/antikt-w.pickle\", \"wb\")\n",
    "# fd = open(\"../data/w-vs-qcd/anti-kt/antikt-qcd.pickle\", \"wb\")\n",
    "# fd = open(\"../data/w-vs-qcd/anti-kt/antikt-delphes-w.pickle\", \"wb\")\n",
    "# fd = open(\"../data/w-vs-qcd/anti-kt/antikt-delphes-qcd.pickle\", \"wb\")\n",
    "# fd = open(\"../data/w-vs-qcd/anti-kt/antikt-soft-w.pickle\", \"wb\")\n",
    "# fd = open(\"../data/w-vs-qcd/anti-kt/antikt-soft-qcd.pickle\", \"wb\")\n",
    "\n",
    "for e in events:\n",
    "    tree, content, mass, pt = cluster(cast(e, soft=0), jet_algorithm=1)[0]  # dump highest pt jet only\n",
    "    \n",
    "    jet = {}\n",
    "    \n",
    "    jet[\"root_id\"] = 0\n",
    "    jet[\"tree\"] = tree\n",
    "    jet[\"content\"] = content\n",
    "    jet[\"mass\"] = mass\n",
    "    jet[\"pt\"] = pt\n",
    "    jet[\"energy\"] = content[0, 3]\n",
    "\n",
    "    px = content[0, 0]\n",
    "    py = content[0, 1]\n",
    "    pz = content[0, 2]\n",
    "    p = (content[0, 0:3] ** 2).sum() ** 0.5\n",
    "    eta = 0.5 * (np.log(p + pz) - np.log(p - pz))\n",
    "    phi = np.arctan2(py, px)\n",
    "    \n",
    "    jet[\"eta\"] = eta\n",
    "    jet[\"phi\"] = phi\n",
    "    \n",
    "    pickle.dump(jet, fd, protocol=2)\n",
    "    \n",
    "fd.close()"
   ]
  },
  {
   "cell_type": "markdown",
   "metadata": {},
   "source": [
    "---\n",
    "\n",
    "# Images"
   ]
  },
  {
   "cell_type": "code",
   "execution_count": 2,
   "metadata": {
    "collapsed": false
   },
   "outputs": [],
   "source": [
    "f = h5py.File(\"../data/w-vs-qcd/h5/w_100000_j1p0_sj0p30_delphes_jets_images.h5\", \"r\")\n",
    "# f = h5py.File(\"../data/w-vs-qcd/h5/qcd_100000_j1p0_sj0p30_delphes_jets_images.h5\", \"r\")\n",
    "auxvars = f[\"auxvars\"].value\n",
    "events = f[\"images\"].value\n",
    "edges = np.linspace(-1, 1, 26)\n",
    "bins = (edges[:25] + edges[1:]) / 2."
   ]
  },
  {
   "cell_type": "code",
   "execution_count": null,
   "metadata": {
    "collapsed": false,
    "scrolled": false
   },
   "outputs": [],
   "source": [
    "%matplotlib inline\n",
    "import matplotlib.pyplot as plt\n",
    "\n",
    "for i in range(len(events[:10])):\n",
    "    img = events[i]\n",
    "    img = img * auxvars[i][1] / img.sum()\n",
    "    plt.imshow(np.log(img), interpolation=\"nearest\")\n",
    "    #plt.savefig(\"img-%d.png\" % i)\n",
    "    plt.show()"
   ]
  },
  {
   "cell_type": "code",
   "execution_count": 109,
   "metadata": {
    "collapsed": false
   },
   "outputs": [],
   "source": [
    "from rootpy.vector import LorentzVector\n",
    "\n",
    "fd = open(\"../data/w-vs-qcd/anti-kt/images-w.pickle\", \"wb\")\n",
    "# fd = open(\"../data/w-vs-qcd/anti-kt/images-qcd.pickle\", \"wb\")\n",
    "\n",
    "for i in range(len(events)):\n",
    "    img = events[i]\n",
    "    img = img * auxvars[i][1] / img.sum()\n",
    "    content = []\n",
    "    \n",
    "    for r, c in zip(*np.where(img)):\n",
    "        eta = bins[r]\n",
    "        phi = bins[c]\n",
    "        pt = img[r, c]\n",
    "        v = LorentzVector()\n",
    "        v.set_pt_eta_phi_m(pt, eta, phi, 0.0)\n",
    "        content.append((v.px, v.py, v.pz, v.E()))\n",
    "    \n",
    "    content = np.array(content)\n",
    "    \n",
    "    jet = {}\n",
    "    \n",
    "    tree, content, mass, pt = cluster(content, jet_algorithm=0, R=100)[0]  # recluster using KT, no further processing\n",
    "    \n",
    "    jet[\"root_id\"] = 0\n",
    "    jet[\"tree\"] = tree\n",
    "    jet[\"content\"] = content\n",
    "    jet[\"mass\"] = mass\n",
    "    jet[\"pt\"] = pt\n",
    "    jet[\"energy\"] = content[0, 3]\n",
    "\n",
    "    px = content[0, 0]\n",
    "    py = content[0, 1]\n",
    "    pz = content[0, 2]\n",
    "    p = (content[0, 0:3] ** 2).sum() ** 0.5\n",
    "    eta = 0.5 * (np.log(p + pz) - np.log(p - pz))\n",
    "    phi = np.arctan2(py, px)\n",
    "    \n",
    "    jet[\"eta\"] = eta\n",
    "    jet[\"phi\"] = phi\n",
    "    \n",
    "    pickle.dump(jet, fd, protocol=2)\n",
    "    \n",
    "fd.close()"
   ]
  },
  {
   "cell_type": "markdown",
   "metadata": {},
   "source": [
    "---"
   ]
  },
  {
   "cell_type": "markdown",
   "metadata": {},
   "source": [
    "# Event level"
   ]
  },
  {
   "cell_type": "code",
   "execution_count": null,
   "metadata": {
    "collapsed": false
   },
   "outputs": [],
   "source": [
    "# event level data, decomposed as anti-kt trees\n",
    "\n",
    "# f = h5py.File(\"../data/w-vs-qcd/h5/w_100000.h5\", \"r\")\n",
    "# f = h5py.File(\"../data/w-vs-qcd/h5/qcd_100000.h5\", \"r\")\n",
    "# f = h5py.File(\"../data/w-vs-qcd/h5/w_100000_delphes.h5\", \"r\")\n",
    "f = h5py.File(\"../data/w-vs-qcd/h5/qcd_100000_delphes.h5\", \"r\")\n",
    "events = f[\"events\"]\n",
    "\n",
    "def cast(event):\n",
    "    a = np.zeros((len(event), 4))\n",
    "    for i, p in enumerate(event):\n",
    "        a[i, 3] = p[0]\n",
    "        a[i, 0] = p[1]\n",
    "        a[i, 1] = p[2]\n",
    "        a[i, 2] = p[3]\n",
    "    return a\n",
    "\n",
    "\n",
    "# fd = open(\"../data/w-vs-qcd/anti-kt/antikt-w-event.pickle\", \"wb\")\n",
    "# fd = open(\"../data/w-vs-qcd/anti-kt/antikt-qcd-event.pickle\", \"wb\")\n",
    "# fd = open(\"../data/w-vs-qcd/anti-kt/antikt-delphes-w-event.pickle\", \"wb\")\n",
    "fd = open(\"../data/w-vs-qcd/anti-kt/antikt-delphes-qcd-event.pickle\", \"wb\")\n",
    "\n",
    "for i, e in enumerate(events):\n",
    "    if i % 1000 == 0:\n",
    "        print(i)\n",
    "    \n",
    "    jets = []\n",
    "    \n",
    "    for tree, content, mass, pt in cluster(cast(e), jet_algorithm=1):\n",
    "        jet = {}\n",
    "\n",
    "        jet[\"root_id\"] = 0\n",
    "        jet[\"tree\"] = tree\n",
    "        jet[\"content\"] = content\n",
    "        jet[\"mass\"] = mass\n",
    "        jet[\"pt\"] = pt\n",
    "        jet[\"energy\"] = content[0, 3]\n",
    "\n",
    "        px = content[0, 0]\n",
    "        py = content[0, 1]\n",
    "        pz = content[0, 2]\n",
    "        p = (content[0, 0:3] ** 2).sum() ** 0.5\n",
    "        eta = 0.5 * (np.log(p + pz) - np.log(p - pz))\n",
    "        phi = np.arctan2(py, px)\n",
    "\n",
    "        jet[\"eta\"] = eta\n",
    "        jet[\"phi\"] = phi\n",
    "        jets.append(jet)\n",
    "    \n",
    "    pickle.dump(jets, fd, protocol=pickle.HIGHEST_PROTOCOL)\n",
    "    \n",
    "fd.close()"
   ]
  }
 ],
 "metadata": {
  "anaconda-cloud": {},
  "kernelspec": {
   "display_name": "Python [conda env:p27]",
   "language": "python",
   "name": "conda-env-p27-py"
  },
  "language_info": {
   "codemirror_mode": {
    "name": "ipython",
    "version": 2
   },
   "file_extension": ".py",
   "mimetype": "text/x-python",
   "name": "python",
   "nbconvert_exporter": "python",
   "pygments_lexer": "ipython2",
   "version": "2.7.13"
  }
 },
 "nbformat": 4,
 "nbformat_minor": 0
}
